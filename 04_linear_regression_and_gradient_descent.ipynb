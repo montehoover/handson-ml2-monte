{
 "cells": [
  {
   "cell_type": "markdown",
   "metadata": {},
   "source": [
    "# Chapter 4 - Training Linear Models: Linear Regression and Gradient Descent"
   ]
  },
  {
   "cell_type": "markdown",
   "metadata": {},
   "source": [
    "Notes: We can represent any set of data points, examples with feature vectors x and labels y, as a matrix X of all the feature vectors and a vector y of the labels for each example. We can choose to model this a linear equation: X * theta = y. (In linalg 101 this is Ax=b.) Theta is a vector of coefficient for this linear equation. For example a single row would look like: x_1 * theta_1 + x_2 * theta_2 + ... + x_n * theta_n + 1 * theta_0 = y^1.\n",
    "\n",
    "Because any set of points will not perfectly follow a line or curve, there is not an exact vector theta that when multiplied by X will result in y. (In linalg 101 we say \"y is not in the column space of X\".) We could check that by using traditional linalg solving (Gaussian Elimination) and find that the system has no solutions (0 /= 1 kind of thing). In linear algebra we showed that the closest approximation we can get to y when it is not in the column space X * theta (for any theta no matter what we choose) is a projection onto the hyperplane of X * theta for all possible thetas. (We might refer to this hyperplane as the subspace W that equals Ax. The subspace W is the column space of X.)\n",
    "\n",
    "The particular theta that gives this projection when multiplied by X is found by solving the \"Normal Equation\": A^t * A * x = A^t * y. (Or in our case X^t * X * theta = X^t * y.) (I have a nice proof of why the Normal Equation is gives this projection in my linalg notes.)\n",
    "\n",
    "So for any set of data points in machine learning, we can choose to model it as a linear function (a line or any polynomial curve) and it will have a closed form solution given by the Normal Equation, or we can choose to find the theta that minimizes the loss by gradient descent."
   ]
  },
  {
   "cell_type": "markdown",
   "metadata": {},
   "source": [
    "## Linear Regession by Least Squares"
   ]
  },
  {
   "cell_type": "code",
   "execution_count": 3,
   "metadata": {},
   "outputs": [
    {
     "data": {
      "text/plain": [
       "<matplotlib.collections.PathCollection at 0x7f1ae72cb280>"
      ]
     },
     "execution_count": 3,
     "metadata": {},
     "output_type": "execute_result"
    },
    {
     "data": {
      "image/png": "[encoded data removed]",
      "text/plain": [
       "<Figure size 432x288 with 1 Axes>"
      ]
     },
     "metadata": {
      "needs_background": "light"
     },
     "output_type": "display_data"
    }
   ],
   "source": [
    "import numpy as np\n",
    "from matplotlib import pyplot as plt\n",
    "\n",
    "np.random.seed(0)\n",
    "X = 2 * np.random.rand(100, 1) # x values from 0-2\n",
    "y = 4 + 3 * X + np.random.randn(100, 1)\n",
    "\n",
    "plt.scatter(X[:, 0], y)"
   ]
  },
  {
   "cell_type": "code",
   "execution_count": 4,
   "metadata": {},
   "outputs": [
    {
     "data": {
      "text/plain": [
       "array([[4.22215108],\n",
       "       [2.96846751]])"
      ]
     },
     "execution_count": 4,
     "metadata": {},
     "output_type": "execute_result"
    }
   ],
   "source": [
    "# X with bias column\n",
    "X_b = np.concatenate((np.ones((100, 1)), X), axis=1) # add x0 = 1 to each instance\n",
    "# Solve normal equation. We expect to get close to (4, 3) as declared in the cell above for y \n",
    "theta_best = np.linalg.inv(X_b.T @ X_b) @ X_b.T @ y \n",
    "theta_best"
   ]
  },
  {
   "cell_type": "code",
   "execution_count": 5,
   "metadata": {},
   "outputs": [
    {
     "data": {
      "text/plain": [
       "array([[ 4.22215108],\n",
       "       [10.1590861 ]])"
      ]
     },
     "execution_count": 5,
     "metadata": {},
     "output_type": "execute_result"
    }
   ],
   "source": [
    "X_new = np.array([[0], [2]])\n",
    "X_new_b = np.concatenate((np.ones((2,1)), X_new), axis=1)\n",
    "y_predict = X_new_b @ theta_best\n",
    "y_predict"
   ]
  },
  {
   "cell_type": "code",
   "execution_count": 6,
   "metadata": {},
   "outputs": [
    {
     "data": {
      "image/png": "[encoded data removed]",
      "text/plain": [
       "<Figure size 432x288 with 1 Axes>"
      ]
     },
     "metadata": {
      "needs_background": "light"
     },
     "output_type": "display_data"
    }
   ],
   "source": [
    "plt.plot(X_new, y_predict, \"r-\")\n",
    "plt.plot(X, y, \"b.\")\n",
    "plt.axis([0, 2, 0, 15])\n",
    "plt.show()"
   ]
  },
  {
   "cell_type": "code",
   "execution_count": 7,
   "metadata": {},
   "outputs": [
    {
     "data": {
      "text/plain": [
       "(array([4.22215108]), array([[2.96846751]]))"
      ]
     },
     "execution_count": 7,
     "metadata": {},
     "output_type": "execute_result"
    }
   ],
   "source": [
    "# Getting theta from sklearns linear regression learner\n",
    "from sklearn.linear_model import LinearRegression\n",
    "lin_reg = LinearRegression()\n",
    "lin_reg.fit(X, y)\n",
    "theta_best_sklearn = lin_reg.intercept_, lin_reg.coef_\n",
    "theta_best_sklearn"
   ]
  },
  {
   "cell_type": "code",
   "execution_count": 8,
   "metadata": {},
   "outputs": [
    {
     "data": {
      "text/plain": [
       "array([[ 4.22215108],\n",
       "       [10.1590861 ]])"
      ]
     },
     "execution_count": 8,
     "metadata": {},
     "output_type": "execute_result"
    }
   ],
   "source": [
    "lin_reg.predict(X_new)"
   ]
  },
  {
   "cell_type": "code",
   "execution_count": 9,
   "metadata": {},
   "outputs": [
    {
     "data": {
      "text/plain": [
       "array([[4.22215108],\n",
       "       [2.96846751]])"
      ]
     },
     "execution_count": 9,
     "metadata": {},
     "output_type": "execute_result"
    }
   ],
   "source": [
    "# sklearn simply uses the np.linalg least squares function which is what we wrote by hand above.\n",
    "theta_best_np, residuals, rank, s = np.linalg.lstsq(X_b, y, rcond=1e-6)\n",
    "theta_best_np\n"
   ]
  },
  {
   "cell_type": "markdown",
   "metadata": {},
   "source": [
    "### Computational Complexity\n",
    "1. Least squares by solving Normal Equation: \n",
    "    O(n^3) for n features, linear with number of examples\n",
    "2. Least squares by doing pseudo-inverse of X with Singular Value Decomposition (what np and sklearn do):\n",
    "    O(n^2) for n features, linear with number of examples"
   ]
  },
  {
   "cell_type": "markdown",
   "metadata": {},
   "source": [
    "## Linear Regression by Gradient Descent"
   ]
  },
  {
   "cell_type": "code",
   "execution_count": 29,
   "metadata": {},
   "outputs": [
    {
     "name": "stdout",
     "output_type": "stream",
     "text": [
      "[[4.22215108]\n",
      " [2.96846751]]\n",
      "[[4.22370473]\n",
      " [2.96504868]]\n",
      "[[4.2537016 ]\n",
      " [2.96510969]]\n"
     ]
    }
   ],
   "source": [
    "# Quick implementation of gradient descent algorithm\n",
    "# Use MSE for Loss function: L = 1/m * sum_over_m((x^i * theta - y^i)**2)\n",
    "\n",
    "# Hyperparameters\n",
    "ETA = 0.1 # learning rate\n",
    "SCHEDULE = 5 # Adaptive learning schedule rate (higher value means ETA decreases more slowly and the algorithm converges more agressively)\n",
    "EPOCHS = 1000\n",
    "BATCH_SIZE = 10\n",
    "\n",
    "np.random.seed(0)\n",
    "\n",
    "# Partial derivative of Loss w.r.t. theta for single example (Stochastic Gradient Descent)\n",
    "def dL_dtheta_single(theta, xi, yi):\n",
    "    gradient = 2 * xi * (xi.dot(theta) - yi) \n",
    "    return gradient\n",
    "\n",
    "# Partial derivative of Loss w.r.t. theta for all examples (Batch Gradient Descent)\n",
    "def dL_dtheta(theta, X, y):\n",
    "    m = len(X)\n",
    "    gradient = 1/m * 2 * X.T @ (X @ theta - y)\n",
    "    return gradient\n",
    "\n",
    "def learning_schedule(t):\n",
    "    # Notice SCHEDULE / (SCHEDULE / ETA) = ETA, t is added to decrease ETA by a factor moderated by the size of SCHEDULE\n",
    "    learning_rate = SCHEDULE / (t + (SCHEDULE / ETA))\n",
    "    return learning_rate\n",
    "\n",
    "def gradient_descent(X, y):\n",
    "    theta = np.random.randn(2,1) # random initialization\n",
    "    for epoch in range(EPOCHS):\n",
    "        gradient = dL_dtheta(theta, X, y)\n",
    "        theta = theta - ETA * gradient\n",
    "    return theta\n",
    "\n",
    "def stochatistic_gradient_descent(X, y):\n",
    "    theta = np.random.randn(2,1) # random initialization\n",
    "    for epoch in range(EPOCHS):\n",
    "        for j in range(len(X)):\n",
    "            i = np.random.randint(len(X))\n",
    "            gradient = dL_dtheta_single(theta, X[i], y[i])\n",
    "            gradient = gradient.reshape(theta.shape)\n",
    "            eta = learning_schedule(epoch * len(X) + j)\n",
    "            theta = theta - eta * gradient\n",
    "    return theta\n",
    "\n",
    "def minibatch_gradient_descent(X, y):\n",
    "    theta = np.random.randn(2,1) # random initialization\n",
    "    for epoch in range(EPOCHS):\n",
    "        batches_per_epoch = len(X) // BATCH_SIZE\n",
    "        for j in range(batches_per_epoch):\n",
    "            i = np.random.randint(len(X) - BATCH_SIZE + 1)\n",
    "            X_batch = X[i:i+BATCH_SIZE]\n",
    "            y_batch = y[i:i+BATCH_SIZE]\n",
    "            gradient = dL_dtheta(theta, X_batch, y_batch)\n",
    "            eta = learning_schedule(epoch * batches_per_epoch + j)\n",
    "            theta = theta - eta * gradient\n",
    "    return theta\n",
    "\n",
    "# Notice the minibatch_gradient_descent is equivalent to either SGD or standard gradient descent if you\n",
    "# set batch size to either 1 or to the full size of the dataset.\n",
    "print(gradient_descent(X_b, y))\n",
    "print(stochatistic_gradient_descent(X_b, y))\n",
    "print(minibatch_gradient_descent(X_b, y))"
   ]
  },
  {
   "cell_type": "markdown",
   "metadata": {},
   "source": [
    "## Linear regression with polynomial degree"
   ]
  },
  {
   "cell_type": "code",
   "execution_count": null,
   "metadata": {},
   "outputs": [],
   "source": [
    "m = 100\n",
    "X = -3 + 6 * np.random.rand(m, 1) # values from -3 to 6\n",
    "y = 0.5 * X**2 + X + 2 + np.random.randn(m, 1)"
   ]
  }
 ],
 "metadata": {
  "interpreter": {
   "hash": "3ce4e21963626f8817725700dc6004a9cdbd079daef9a070b991d7edb0d641e6"
  },
  "kernelspec": {
   "display_name": "Python 3.8.10 ('.venv': venv)",
   "language": "python",
   "name": "python3"
  },
  "language_info": {
   "codemirror_mode": {
    "name": "ipython",
    "version": 3
   },
   "file_extension": ".py",
   "mimetype": "text/x-python",
   "name": "python",
   "nbconvert_exporter": "python",
   "pygments_lexer": "ipython3",
   "version": "3.8.10"
  },
  "orig_nbformat": 4
 },
 "nbformat": 4,
 "nbformat_minor": 2
}
