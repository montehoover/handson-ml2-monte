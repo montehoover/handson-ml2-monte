{
 "cells": [
  {
   "cell_type": "code",
   "execution_count": 23,
   "source": [
    "from sklearn.datasets import fetch_openml\r\n",
    "import joblib\r\n",
    "\r\n",
    "# Uncomment to download the dataset for the first time (takes about 30 seconds)\r\n",
    "# mnist = fetch_openml('mnist_784', version=1)\r\n",
    "# joblib.dump(mnist, \"mnist.pkl\")\r\n",
    "\r\n",
    "mnist = joblib.load(\"mnist.pkl\")\r\n",
    "mnist.keys()"
   ],
   "outputs": [
    {
     "output_type": "execute_result",
     "data": {
      "text/plain": [
       "['mnist.pkl']"
      ]
     },
     "metadata": {},
     "execution_count": 23
    }
   ],
   "metadata": {}
  },
  {
   "cell_type": "code",
   "execution_count": 2,
   "source": [
    "X, y = mnist[\"data\"], mnist[\"target\"]\r\n",
    "X.shape"
   ],
   "outputs": [
    {
     "output_type": "execute_result",
     "data": {
      "text/plain": [
       "(70000, 784)"
      ]
     },
     "metadata": {},
     "execution_count": 2
    }
   ],
   "metadata": {}
  },
  {
   "cell_type": "code",
   "execution_count": 3,
   "source": [
    "y.shape"
   ],
   "outputs": [
    {
     "output_type": "execute_result",
     "data": {
      "text/plain": [
       "(70000,)"
      ]
     },
     "metadata": {},
     "execution_count": 3
    }
   ],
   "metadata": {}
  },
  {
   "cell_type": "code",
   "execution_count": 4,
   "source": [
    "import matplotlib as mpl\r\n",
    "import matplotlib.pyplot as plt\r\n",
    "\r\n",
    "some_digit = X.values[0]\r\n",
    "some_digit_image = some_digit.reshape(28, 28)\r\n",
    "\r\n",
    "plt.imshow(some_digit_image, cmap=\"binary\")\r\n",
    "plt.axis(\"off\")\r\n",
    "plt.show()"
   ],
   "outputs": [
    {
     "output_type": "display_data",
     "data": {
      "image/png": "[encoded data removed]",
      "text/plain": [
       "<Figure size 432x288 with 1 Axes>"
      ]
     },
     "metadata": {
      "needs_background": "light"
     }
    }
   ],
   "metadata": {}
  },
  {
   "cell_type": "code",
   "execution_count": 5,
   "source": [
    "y[0]"
   ],
   "outputs": [
    {
     "output_type": "execute_result",
     "data": {
      "text/plain": [
       "'5'"
      ]
     },
     "metadata": {},
     "execution_count": 5
    }
   ],
   "metadata": {}
  },
  {
   "cell_type": "code",
   "execution_count": 6,
   "source": [
    "import numpy as np\r\n",
    "y = y.astype(np.uint8)"
   ],
   "outputs": [],
   "metadata": {}
  },
  {
   "cell_type": "code",
   "execution_count": 7,
   "source": [
    "X_train, X_test, y_train, y_test = X.values[:60000], X.values[60000:], y.values[:60000], y.values[60000:]"
   ],
   "outputs": [],
   "metadata": {}
  },
  {
   "cell_type": "code",
   "execution_count": 8,
   "source": [
    "y_train_5 = (y_train == 5)\r\n",
    "y_test_5 = (y_test == 5)"
   ],
   "outputs": [],
   "metadata": {}
  },
  {
   "cell_type": "code",
   "execution_count": 9,
   "source": [
    "from sklearn.linear_model import SGDClassifier\r\n",
    "\r\n",
    "sgd_clf = SGDClassifier(random_state=42)\r\n",
    "sgd_clf.fit(X_train, y_train_5)\r\n",
    "\r\n",
    "sgd_clf.predict([some_digit])"
   ],
   "outputs": [
    {
     "output_type": "execute_result",
     "data": {
      "text/plain": [
       "array([ True])"
      ]
     },
     "metadata": {},
     "execution_count": 9
    }
   ],
   "metadata": {}
  },
  {
   "cell_type": "code",
   "execution_count": 27,
   "source": [
    "# Custom implementation of Cross-Validation\r\n",
    "\r\n",
    "from sklearn.model_selection import StratifiedKFold\r\n",
    "from sklearn.base import clone\r\n",
    "\r\n",
    "skfolds = StratifiedKFold(n_splits=3, shuffle=True, random_state=42)\r\n",
    "\r\n",
    "for train_index, test_index in skfolds.split(X_train, y_train_5):\r\n",
    "    clone_clf = clone(sgd_clf)\r\n",
    "    X_train_folds = X_train[train_index]\r\n",
    "    y_train_folds = y_train_5[train_index]\r\n",
    "    X_test_fold = X_train[test_index]\r\n",
    "    y_test_fold = y_train_5[test_index]\r\n",
    "\r\n",
    "    clone_clf.fit(X_train_folds, y_train_folds)\r\n",
    "    y_pred = clone_clf.predict(X_test_fold)\r\n",
    "    n_correct = sum(y_pred == y_test_fold)\r\n",
    "    print(n_correct / len(y_pred))"
   ],
   "outputs": [
    {
     "output_type": "stream",
     "name": "stdout",
     "text": [
      "0.9669\n",
      "0.91625\n",
      "0.96785\n"
     ]
    }
   ],
   "metadata": {}
  },
  {
   "cell_type": "code",
   "execution_count": 31,
   "source": [
    "from sklearn.model_selection import cross_val_score\r\n",
    "\r\n",
    "cross_val_score(sgd_clf, X_train, y_train_5, cv=3, scoring=\"accuracy\")\r\n"
   ],
   "outputs": [
    {
     "output_type": "execute_result",
     "data": {
      "text/plain": [
       "array([0.95035, 0.96035, 0.9604 ])"
      ]
     },
     "metadata": {},
     "execution_count": 31
    }
   ],
   "metadata": {}
  },
  {
   "cell_type": "code",
   "execution_count": 47,
   "source": [
    "from sklearn.base import BaseEstimator\r\n",
    "\r\n",
    "class Never5Classifier(BaseEstimator):\r\n",
    "    def fit(self, X, y=None):\r\n",
    "        pass\r\n",
    "    def predict(self, X):\r\n",
    "        return np.zeros((len(X), 1), dtype=bool)"
   ],
   "outputs": [],
   "metadata": {}
  },
  {
   "cell_type": "code",
   "execution_count": 48,
   "source": [
    "never_5_clf = Never5Classifier()\r\n",
    "cross_val_score(never_5_clf, X_train, y_train_5, cv=3, scoring=\"accuracy\")"
   ],
   "outputs": [
    {
     "output_type": "execute_result",
     "data": {
      "text/plain": [
       "array([0.91125, 0.90855, 0.90915])"
      ]
     },
     "metadata": {},
     "execution_count": 48
    }
   ],
   "metadata": {}
  },
  {
   "cell_type": "code",
   "execution_count": 49,
   "source": [
    "from sklearn.model_selection import cross_val_predict\r\n",
    "\r\n",
    "y_train_pred = cross_val_predict(sgd_clf, X_train, y_train_5, cv=3)"
   ],
   "outputs": [],
   "metadata": {}
  },
  {
   "cell_type": "code",
   "execution_count": 50,
   "source": [
    "from sklearn.metrics import confusion_matrix\r\n",
    "\r\n",
    "confusion_matrix(y_train_5, y_train_pred)\r\n",
    "\r\n",
    "# output:\r\n",
    "#                            Predicted    Predicted\r\n",
    "#                         as non-fives:   as fives:        \r\n",
    "# Actual images of non-fives:  [[53892,   687],\r\n",
    "# Actual images of fives:       [ 1891,  3530]]\r\n",
    "#\r\n",
    "#                               [[TN,  FP]\r\n",
    "#                                [FN,  TP]]\r\n",
    "#\r\n"
   ],
   "outputs": [
    {
     "output_type": "execute_result",
     "data": {
      "text/plain": [
       "array([[53892,   687],\n",
       "       [ 1891,  3530]], dtype=int64)"
      ]
     },
     "metadata": {},
     "execution_count": 50
    }
   ],
   "metadata": {}
  },
  {
   "cell_type": "code",
   "execution_count": 51,
   "source": [
    "y_train_perfect_predictions = y_train_5 # pretend we reached perfection\r\n",
    "confusion_matrix(y_train_5, y_train_perfect_predictions)"
   ],
   "outputs": [
    {
     "output_type": "execute_result",
     "data": {
      "text/plain": [
       "array([[54579,     0],\n",
       "       [    0,  5421]], dtype=int64)"
      ]
     },
     "metadata": {},
     "execution_count": 51
    }
   ],
   "metadata": {}
  },
  {
   "cell_type": "code",
   "execution_count": 52,
   "source": [
    "from sklearn.metrics import precision_score, recall_score\r\n",
    "precision_score(y_train_5, y_train_pred)"
   ],
   "outputs": [
    {
     "output_type": "execute_result",
     "data": {
      "text/plain": [
       "0.8370879772350012"
      ]
     },
     "metadata": {},
     "execution_count": 52
    }
   ],
   "metadata": {}
  },
  {
   "cell_type": "code",
   "execution_count": 53,
   "source": [
    "recall_score(y_train_5, y_train_pred)"
   ],
   "outputs": [
    {
     "output_type": "execute_result",
     "data": {
      "text/plain": [
       "0.6511713705958311"
      ]
     },
     "metadata": {},
     "execution_count": 53
    }
   ],
   "metadata": {}
  },
  {
   "cell_type": "code",
   "execution_count": 54,
   "source": [
    "# F1 is the \"harmonic mean\". The regular mean gives equal weight to all values, but the harmonic mean gives more\r\n",
    "#  weight to low values. You have to have a high values for both precision and recall to have a good F1 score, or\r\n",
    "# more specifically, the F1 score favors classifiers that have a similar precision and recall.\r\n",
    "\r\n",
    "from sklearn.metrics import f1_score\r\n",
    "\r\n",
    "f1_score(y_train_5, y_train_pred)"
   ],
   "outputs": [
    {
     "output_type": "execute_result",
     "data": {
      "text/plain": [
       "0.7325171197343846"
      ]
     },
     "metadata": {},
     "execution_count": 54
    }
   ],
   "metadata": {}
  },
  {
   "cell_type": "code",
   "execution_count": 55,
   "source": [
    "y_scores = sgd_clf.decision_function([some_digit])\r\n",
    "y_scores"
   ],
   "outputs": [
    {
     "output_type": "execute_result",
     "data": {
      "text/plain": [
       "array([2164.22030239])"
      ]
     },
     "metadata": {},
     "execution_count": 55
    }
   ],
   "metadata": {}
  },
  {
   "cell_type": "code",
   "execution_count": 57,
   "source": [
    "threshold = 0\r\n",
    "y_some_digit_pred = (y_scores > threshold)\r\n",
    "y_some_digit_pred"
   ],
   "outputs": [
    {
     "output_type": "execute_result",
     "data": {
      "text/plain": [
       "array([ True])"
      ]
     },
     "metadata": {},
     "execution_count": 57
    }
   ],
   "metadata": {}
  },
  {
   "cell_type": "code",
   "execution_count": 58,
   "source": [
    "threshold = 8000\r\n",
    "y_some_digit_pred = (y_scores > threshold)\r\n",
    "y_some_digit_pred"
   ],
   "outputs": [
    {
     "output_type": "execute_result",
     "data": {
      "text/plain": [
       "array([False])"
      ]
     },
     "metadata": {},
     "execution_count": 58
    }
   ],
   "metadata": {}
  },
  {
   "cell_type": "code",
   "execution_count": 59,
   "source": [
    "y_scores = cross_val_predict(sgd_clf, X_train, y_train_5, cv=3, method=\"decision_function\")"
   ],
   "outputs": [],
   "metadata": {}
  },
  {
   "cell_type": "code",
   "execution_count": 100,
   "source": [
    "from sklearn.metrics import precision_recall_curve\r\n",
    "\r\n",
    "precisions, recalls, thresholds = precision_recall_curve(y_train_5, y_scores)\r\n",
    "\r\n",
    "def plot_precision_recall_vs_threshold(precisions, recalls, thresholds):\r\n",
    "    plt.figure(figsize=(10,7))    \r\n",
    "    plt.plot(thresholds, precisions[:-1], \"b--\", label=\"Precision\")\r\n",
    "    plt.plot(thresholds, recalls[:-1], \"g--\", label=\"Recall\")\r\n",
    "    plt.legend()\r\n",
    "    plt.xlabel(\"Threshold\")\r\n",
    "    plt.grid()\r\n",
    "\r\n",
    "plot_precision_recall_vs_threshold(precisions, recalls, thresholds)\r\n",
    "plt.axis([-30000, 30000, 0, 1])\r\n",
    "\r\n",
    "plt.show()"
   ],
   "outputs": [
    {
     "output_type": "display_data",
     "data": {
      "image/png": "[encoded data removed]",
      "text/plain": [
       "<Figure size 720x504 with 1 Axes>"
      ]
     },
     "metadata": {
      "needs_background": "light"
     }
    }
   ],
   "metadata": {}
  },
  {
   "cell_type": "code",
   "execution_count": 133,
   "source": [
    "# Obtaining the threshhold for a given precision or recall\r\n",
    "\r\n",
    "# What's happening here is a little obscure. It is based on the fact that precision_recall_curve() returned all the\r\n",
    "# possible precision values in ascending order. Since we are calling argmax on an array of bools there is now \"max\" and\r\n",
    "# it just returns the index of the first True it finds. Thus we use argmax to find the exact threshhold that gives us \r\n",
    "# 90% precision.\r\n",
    "\r\n",
    "plt.plot(precisions)\r\n",
    "\r\n",
    "threshold_90_precision = thresholds[np.argmax(precisions >= 0.90)]\r\n",
    "print(threshold_90_precision)\r\n",
    "y_train_pred_90 = (y_scores >= threshold_90_precision)\r\n",
    "print(precision_score(y_train_5, y_train_pred_90))\r\n",
    "print(recall_score(y_train_5, y_train_pred_90))"
   ],
   "outputs": [
    {
     "output_type": "stream",
     "name": "stdout",
     "text": [
      "3370.0194991439557\n",
      "0.9000345901072293\n",
      "0.4799852425751706\n"
     ]
    },
    {
     "output_type": "display_data",
     "data": {
      "image/png": "[encoded data removed]",
      "text/plain": [
       "<Figure size 432x288 with 1 Axes>"
      ]
     },
     "metadata": {
      "needs_background": "light"
     }
    }
   ],
   "metadata": {}
  },
  {
   "cell_type": "code",
   "execution_count": 89,
   "source": [
    "from sklearn.metrics import roc_auc_score\r\n",
    "roc_auc_score(y_train_5, y_scores)\r\n",
    "\r\n",
    "# AUC (Area Under the Curve) should range from 0.5 (the random classifier) to 1.0 (perfect)"
   ],
   "outputs": [
    {
     "output_type": "execute_result",
     "data": {
      "text/plain": [
       "0.9604938554008616"
      ]
     },
     "metadata": {},
     "execution_count": 89
    }
   ],
   "metadata": {}
  },
  {
   "cell_type": "markdown",
   "source": [
    "## How to choose between ROC curve and Precision-Recall curve\r\n",
    "\r\n",
    "In most cases, we prefer to evaluate based on the ROC curve. However, if you care a lot about false positives (which are highlighted by Precision), or as in our case the postive class is rare, the P-R curve can illustrate this more dramatically. For example, we have a very high ROC AUC, but this is only because 5's occur just 10% of the time. We know from our P-R curve that Precision and Recall are only about 73% when they are equal and tradeoff is fairly steep after that, so there is actually a lot of room for improvement with this classifier.\r\n",
    "\r\n",
    "Note: F1 is the preferred metric for summarizing the P-R curve."
   ],
   "metadata": {}
  },
  {
   "cell_type": "code",
   "execution_count": 90,
   "source": [
    "# Compare now with Random Forest Classifier\r\n",
    "\r\n",
    "from sklearn.ensemble import RandomForestClassifier\r\n",
    "\r\n",
    "forest_clf = RandomForestClassifier(random_state=42)\r\n",
    "y_probas_forest = cross_val_predict(forest_clf, X_train, y_train_5, cv=3, method=\"predict_proba\")\r\n",
    "\r\n",
    "# Random Forest's predict_proba method returns an n x c matrix, where it has a column showing the probability for each class\r\n",
    "y_scores_forest = y_probas_forest[:, 1] # score = proba of positive class\r\n",
    "fpr_forest, tpr_forest, thresholds_forest = roc_curve(y_train_5, y_scores_forest)\r\n",
    "\r\n",
    "plt.plot(fpr, tpr, \"b:\", label=\"SGD\")\r\n",
    "plot_roc_curve(fpr_forest, tpr_forest, \"Random Forest\")\r\n",
    "plt.legend(loc=\"lower right\")"
   ],
   "outputs": [
    {
     "output_type": "execute_result",
     "data": {
      "text/plain": [
       "<matplotlib.legend.Legend at 0x21cb1fa7310>"
      ]
     },
     "metadata": {},
     "execution_count": 90
    },
    {
     "output_type": "display_data",
     "data": {
      "image/png": "[encoded data removed]",
      "text/plain": [
       "<Figure size 432x288 with 1 Axes>"
      ]
     },
     "metadata": {
      "needs_background": "light"
     }
    }
   ],
   "metadata": {}
  },
  {
   "cell_type": "code",
   "execution_count": 91,
   "source": [
    "from sklearn.metrics import f1_score\r\n",
    "\r\n",
    "y_train_pred_forest = cross_val_predict(forest_clf, X_train, y_train_5, cv=3)\r\n",
    "\r\n",
    "sgd_auc = roc_auc_score(y_train_5, y_scores)\r\n",
    "forest_auc = roc_auc_score(y_train_5, y_scores_forest)\r\n",
    "sgd_f1 = f1_score(y_train_5, y_train_pred)\r\n",
    "forest_f1 = f1_score(y_train_5, y_train_pred_forest)\r\n",
    "\r\n",
    "print(f\"SGD AUC: {sgd_auc}\")\r\n",
    "print(f\"Forest AUC: {forest_auc}\")\r\n",
    "print(f\"SGD F1: {sgd_f1}\")\r\n",
    "print(f\"Forest F1: {forest_f1}\")"
   ],
   "outputs": [
    {
     "output_type": "stream",
     "name": "stdout",
     "text": [
      "SGD AUC: 0.9604938554008616\n",
      "Forest AUC: 0.9983436731328145\n",
      "SGD F1: 0.7325171197343846\n",
      "Forest F1: 0.9242275142688446\n"
     ]
    }
   ],
   "metadata": {}
  },
  {
   "cell_type": "code",
   "execution_count": 148,
   "source": [
    "precisions_f, recalls_f, thresholds_f = precision_recall_curve(y_train_5, y_scores_forest)\r\n",
    "\r\n",
    "plot_precision_recall_vs_threshold(precisions_f, recalls_f, thresholds_f)\r\n",
    "plt.show()"
   ],
   "outputs": [
    {
     "output_type": "display_data",
     "data": {
      "image/png": "[encoded data removed]",
      "text/plain": [
       "<Figure size 720x504 with 1 Axes>"
      ]
     },
     "metadata": {
      "needs_background": "light"
     }
    }
   ],
   "metadata": {}
  },
  {
   "cell_type": "code",
   "execution_count": 158,
   "source": [
    "print(len(y_scores_forest))\r\n",
    "print(len(thresholds_f))\r\n",
    "\r\n",
    "# There's an interesting quirk happening here. We're supposed to get a threshold for each\r\n",
    "# instance in our training set, but in this case we get very few. There is a small note\r\n",
    "# in the docs that mentions that we only get a number of thresholds equal to the unique\r\n",
    "# scores given to precision_recall_curve(): https://scikit-learn.org/stable/modules/generated/sklearn.metrics.precision_recall_curve.html\r\n"
   ],
   "outputs": [
    {
     "output_type": "stream",
     "name": "stdout",
     "text": [
      "60000\n",
      "99\n"
     ]
    }
   ],
   "metadata": {}
  },
  {
   "cell_type": "code",
   "execution_count": null,
   "source": [],
   "outputs": [],
   "metadata": {}
  }
 ],
 "metadata": {
  "kernelspec": {
   "name": "python3",
   "display_name": "Python 3.9.7 64-bit"
  },
  "language_info": {
   "codemirror_mode": {
    "name": "ipython",
    "version": 3
   },
   "file_extension": ".py",
   "mimetype": "text/x-python",
   "name": "python",
   "nbconvert_exporter": "python",
   "pygments_lexer": "ipython3",
   "version": "3.9.7"
  },
  "interpreter": {
   "hash": "daf462d589485e3a7e4bbc9e21f8ffde85206cfcc2914ef5c7e82d9a8993ac7b"
  }
 },
 "nbformat": 4,
 "nbformat_minor": 5
}