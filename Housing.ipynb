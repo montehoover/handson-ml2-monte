{
 "cells": [
  {
   "cell_type": "code",
   "execution_count": 7,
   "source": [
    "# Utility for downloading housing data\r\n",
    "\r\n",
    "import os\r\n",
    "import tarfile\r\n",
    "import urllib\r\n",
    "\r\n",
    "DOWNLOAD_ROOT = \"https://raw.githubusercontent.com/ageron/handson-ml2/master/\"\r\n",
    "HOUSING_PATH = os.path.join(\"datasets\", \"housing\")\r\n",
    "HOUSING_URL = DOWNLOAD_ROOT + \"datasets/housing/housing.tgz\"\r\n",
    "\r\n",
    "def fetch_housing_data(housing_url=HOUSING_URL, housing_path=HOUSING_PATH):\r\n",
    "    os.makedirs(housing_path, exist_ok=True)\r\n",
    "    tgz_path = os.path.join(housing_path, \"housing.tgz\")\r\n",
    "    urllib.request.urlretrieve(housing_url, tgz_path)\r\n",
    "    housing_tgz = tarfile.open(tgz_path)\r\n",
    "    housing_tgz.extractall(path=housing_path)\r\n",
    "    housing_tgz.close()"
   ],
   "outputs": [],
   "metadata": {}
  },
  {
   "cell_type": "code",
   "execution_count": 8,
   "source": [
    "# Uncomment and execute to re-download housing data\r\n",
    "#fetch_housing_data()"
   ],
   "outputs": [],
   "metadata": {}
  }
 ],
 "metadata": {
  "kernelspec": {
   "name": "python3",
   "display_name": "Python 3.9.7 64-bit ('.env': venv)"
  },
  "language_info": {
   "codemirror_mode": {
    "name": "ipython",
    "version": 3
   },
   "file_extension": ".py",
   "mimetype": "text/x-python",
   "name": "python",
   "nbconvert_exporter": "python",
   "pygments_lexer": "ipython3",
   "version": "3.9.7"
  },
  "interpreter": {
   "hash": "daf462d589485e3a7e4bbc9e21f8ffde85206cfcc2914ef5c7e82d9a8993ac7b"
  }
 },
 "nbformat": 4,
 "nbformat_minor": 5
}