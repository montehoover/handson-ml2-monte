{
 "cells": [
  {
   "cell_type": "code",
   "execution_count": 1,
   "source": [
    "print('hello world')"
   ],
   "outputs": [
    {
     "output_type": "stream",
     "name": "stdout",
     "text": [
      "hello world\n"
     ]
    }
   ],
   "metadata": {}
  }
 ],
 "metadata": {
  "kernelspec": {
   "name": "python3",
   "display_name": "Python 3.9.7 64-bit ('.env': venv)"
  },
  "language_info": {
   "codemirror_mode": {
    "name": "ipython",
    "version": 3
   },
   "file_extension": ".py",
   "mimetype": "text/x-python",
   "name": "python",
   "nbconvert_exporter": "python",
   "pygments_lexer": "ipython3",
   "version": "3.9.7"
  },
  "interpreter": {
   "hash": "daf462d589485e3a7e4bbc9e21f8ffde85206cfcc2914ef5c7e82d9a8993ac7b"
  }
 },
 "nbformat": 4,
 "nbformat_minor": 5
}